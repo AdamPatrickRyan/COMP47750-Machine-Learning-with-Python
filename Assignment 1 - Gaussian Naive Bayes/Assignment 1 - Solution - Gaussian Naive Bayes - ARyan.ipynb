{
 "cells": [
  {
   "cell_type": "markdown",
   "id": "1da1a3d8",
   "metadata": {},
   "source": [
    "# Assignment 1\n",
    "\n",
    "---\n",
    "\n",
    "Author: Adam Ryan\n",
    "\n",
    "Created Date: 2021-09-14\n",
    "\n",
    "Date Last Modified: 2021-09-14\n",
    "\n",
    "Description: A solution to Assignment 1 regarding the implementation of MyGaussianNB which implements Gaussian Naive Bayes.\n",
    "\n",
    "---\n",
    "\n",
    "## Task Description\n",
    "\n",
    "### Objective\n",
    "The objective of this assignment is to implement a Gaussian Naive Bayes classifier in the scikit-learn framework. A notebook (MajorityClassClf) is provided with a simple example of a classifier that works with scikit-learn.\n",
    "\n",
    "Note: The code developed in this assignment will be extended in the second assignment to allow for missing values. \n",
    "\n",
    "### Requirements\n",
    "The notebook MajorityClassClf contains some basic code to help you get started. \n",
    "Provide a python class MyGaussianNB that implements Gaussian Naive Bayes. The conditional probabilities should be calculated as follows:\n",
    "        \n",
    "       \n",
    "\n",
    "\n",
    "\\begin{equation}\n",
    "\\mathrm{P}(x_i | y) = \\frac{1}{\\sqrt{2 \\pi (\\sigma_{y_i})^2}} e^{-\\frac{(x_i - \\mu_y)^2}{2(\\sigma_{y_i})^2}} = \\frac{1}{\\sqrt{2 \\pi (\\sigma_{y_i})^2}} \\text{exp}({-\\frac{(x_i - \\mu_y)^2}{2(\\sigma_{y_i})^2}})\n",
    "\\end{equation}\n",
    "\n",
    "\n",
    "where 𝜇y is the mean for variable i for class y and 𝜎y is the corresponding standard deviation. Thereafter the classification should use the NB formulae presented in the lectures. Alternatives that use addition of conditional probabilities or logs should not be used. \n",
    "    \n",
    "The API specification for sklearn classifiers is here: https://scikit-learn.org/stable/developers/develop.html \n",
    "You should implement the ‘fit’ and ‘predict’ methods, there is no need to implement ‘predict_proba’. \n",
    "Prior probabilities should be calculated from the training data. With this, there will be no need to pass parameters when instances are created. \n",
    "\n",
    "Test the performance of your implementation against the GaussianNB implementation in scikit-learn. You should use a range of datasets for this testing. Possible test sets used in lectures are penguins,  diabetes and glassV2. \n",
    "\n",
    "### Submission\n",
    "This is an individual (not group) project. Submission is through the Brightspace page. Your submission should comprise your notebook and the second dataset that you use. Clear all outputs in the notebook before saving for submission. You can use markdown cells in the notebook to report your findings and conclusions. \n",
    "\n",
    "---\n",
    "\n",
    "\n",
    "## Solution\n",
    "\n",
    "### Explanation\n",
    "\n",
    "Placehold\n",
    "\n",
    "##"
   ]
  },
  {
   "cell_type": "code",
   "execution_count": null,
   "id": "5b475604",
   "metadata": {},
   "outputs": [],
   "source": []
  },
  {
   "cell_type": "markdown",
   "id": "853f669d",
   "metadata": {},
   "source": [
    "#### Required Modules"
   ]
  },
  {
   "cell_type": "code",
   "execution_count": 2,
   "id": "bb839e6a",
   "metadata": {},
   "outputs": [],
   "source": [
    "import numpy as np\n",
    "import pandas as pd\n",
    "\n",
    "from sklearn.preprocessing import MinMaxScaler\n",
    "from sklearn.model_selection import train_test_split\n",
    "from sklearn.naive_bayes import GaussianNB\n",
    "from sklearn.base import BaseEstimator, ClassifierMixin\n",
    "from collections import Counter"
   ]
  },
  {
   "cell_type": "markdown",
   "id": "a738a01c",
   "metadata": {},
   "source": [
    "#### Static Variables"
   ]
  },
  {
   "cell_type": "code",
   "execution_count": 4,
   "id": "4e6d7f29",
   "metadata": {},
   "outputs": [],
   "source": [
    "test_datasets={\n",
    "    'penguins':\n",
    "        {\n",
    "            'filepath':'tbd'\n",
    "        }\n",
    "    ,'diabetes':\n",
    "        {\n",
    "            'filepath':'tbd'\n",
    "        }\n",
    "    ,'glass':\n",
    "        {\n",
    "            'filepath':'tbd'\n",
    "        }\n",
    "}"
   ]
  },
  {
   "cell_type": "markdown",
   "id": "680d2ba7",
   "metadata": {},
   "source": [
    "#### My Gaussian Naive Bayes Implementation\n",
    "\n",
    "Explanation:"
   ]
  },
  {
   "cell_type": "code",
   "execution_count": 6,
   "id": "227e7b3d",
   "metadata": {},
   "outputs": [],
   "source": [
    "class MyGaussianNB(BaseEstimator, ClassifierMixin):\n",
    "    \"\"\"A class to capture My Gaussian Naive Bayes\n",
    "    \n",
    "    Input: \n",
    "    BaseEstimator\n",
    "    ClassifierMixin\n",
    "    \n",
    "    Output:\n",
    "    An item of the MGNB class.\n",
    "    \"\"\"\n",
    "    \n",
    "    def fit(self, Xt, yt):\n",
    "        \"\"\"A function to fit the data\n",
    "        \n",
    "        Input:\n",
    "        Xt: List - X values\n",
    "        yt: List - y values\n",
    "        \n",
    "        Output:\n",
    "        ???\"\"\"\n",
    "        \n",
    "        self.Xt = Xt\n",
    "        self.yt = yt\n",
    "        \n",
    "        c_dict = Counter(self.yt)\n",
    "        self.most_freq = max(c_dict, key=c_dict.get)\n",
    "        print(c_dict, self.most_freq)\n",
    "        return self\n",
    "    \n",
    "    # The predictions are the most common class in the training set.\n",
    "    def predict(self, Xtes):\n",
    "        \"\"\"A function to predict a test set\n",
    "        \n",
    "        Input: \n",
    "        Xtes: List - Test Set\n",
    "        \n",
    "        Output:\n",
    "        ???\"\"\"\n",
    "        \n",
    "        self.Xtes = Xtes\n",
    "        n_test = self.Xtes.shape[0]\n",
    "        ytes = np.full((n_test), self.most_freq)\n",
    "        return ytes\n",
    "    \n",
    "    def predict_proba(self, Xtes):\n",
    "        \"\"\"A function to predict the probability\"\"\"\n",
    "        pass\n",
    "    # We should really be implementing predict_proba as well. "
   ]
  },
  {
   "cell_type": "code",
   "execution_count": null,
   "id": "9eacd414",
   "metadata": {},
   "outputs": [],
   "source": []
  },
  {
   "cell_type": "code",
   "execution_count": null,
   "id": "085b4a1d",
   "metadata": {},
   "outputs": [],
   "source": []
  },
  {
   "cell_type": "markdown",
   "id": "eeb1f5a3",
   "metadata": {},
   "source": [
    "#### Comparison against the default implementation of GaussianNB\n",
    "\n",
    "Explanation:"
   ]
  },
  {
   "cell_type": "code",
   "execution_count": null,
   "id": "56aadb2d",
   "metadata": {},
   "outputs": [],
   "source": []
  }
 ],
 "metadata": {
  "kernelspec": {
   "display_name": "Python 3",
   "language": "python",
   "name": "python3"
  },
  "language_info": {
   "codemirror_mode": {
    "name": "ipython",
    "version": 3
   },
   "file_extension": ".py",
   "mimetype": "text/x-python",
   "name": "python",
   "nbconvert_exporter": "python",
   "pygments_lexer": "ipython3",
   "version": "3.8.8"
  }
 },
 "nbformat": 4,
 "nbformat_minor": 5
}
