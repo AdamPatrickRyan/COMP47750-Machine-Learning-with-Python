{
 "cells": [
  {
   "cell_type": "markdown",
   "metadata": {},
   "source": [
    "# Decision Trees Tutorial  \n",
    "## Pruning \n",
    "If a decision tree is allowed to be too *bushy* it is likely to overfit the training data.  \n",
    "Consequently decision trees are often pruned to prevent overfitting.  \n",
    "In the example below (Iris Data) we use the `min_samples_leaf` attribute to control the size of the tree.  \n",
    "1. What does the Iris Data tree look like when no pruning is enforced?\n",
    "2. What other options does sklearn provide to manage the bushiness of the tree? https://scikit-learn.org/stable/modules/generated/sklearn.tree.DecisionTreeClassifier.html\n",
    "3. Use two other pruning strategies to produce similar trees."
   ]
  },
  {
   "cell_type": "code",
   "execution_count": null,
   "metadata": {},
   "outputs": [],
   "source": [
    "import pandas as pd\n",
    "import numpy as np\n",
    "from sklearn import tree\n",
    "from sklearn.tree import DecisionTreeClassifier\n",
    "import matplotlib.pyplot as plt\n",
    "from sklearn.datasets import load_iris\n",
    "\n",
    "penguins_all = pd.read_csv('penguins_af.csv')\n",
    "f_names = ['bill_length_mm', 'bill_depth_mm','flipper_length_mm', 'body_mass_g']\n",
    "X = penguins_all[f_names].values\n",
    "y = penguins_all['species']\n",
    "species_names = np.unique(y)"
   ]
  },
  {
   "cell_type": "code",
   "execution_count": null,
   "metadata": {},
   "outputs": [],
   "source": [
    "ptree = DecisionTreeClassifier(criterion='entropy')\n",
    "ptree.fit(X,y)"
   ]
  },
  {
   "cell_type": "code",
   "execution_count": null,
   "metadata": {},
   "outputs": [],
   "source": [
    "fig, ax = plt.subplots(figsize=(15, 15))\n",
    "tree.plot_tree(ptree, feature_names=f_names,  \n",
    "                   class_names=species_names,\n",
    "                   filled=True) \n",
    "None"
   ]
  },
  {
   "cell_type": "code",
   "execution_count": null,
   "metadata": {},
   "outputs": [],
   "source": [
    "ptree.get_n_leaves()"
   ]
  },
  {
   "cell_type": "code",
   "execution_count": null,
   "metadata": {},
   "outputs": [],
   "source": []
  }
 ],
 "metadata": {
  "kernelspec": {
   "display_name": "Python 3",
   "language": "python",
   "name": "python3"
  },
  "language_info": {
   "codemirror_mode": {
    "name": "ipython",
    "version": 3
   },
   "file_extension": ".py",
   "mimetype": "text/x-python",
   "name": "python",
   "nbconvert_exporter": "python",
   "pygments_lexer": "ipython3",
   "version": "3.8.3"
  }
 },
 "nbformat": 4,
 "nbformat_minor": 2
}
