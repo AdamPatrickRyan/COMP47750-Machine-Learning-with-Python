{
 "cells": [
  {
   "cell_type": "code",
   "execution_count": 12,
   "id": "5e1ce6d6",
   "metadata": {},
   "outputs": [],
   "source": [
    "import pandas as pd\n",
    "from sklearn.feature_selection import chi2\n",
    "from sklearn.feature_selection import mutual_info_classif\n",
    "\n",
    "from sklearn.model_selection import train_test_split\n",
    "from sklearn.feature_selection import SelectKBest, mutual_info_classif\n",
    "from sklearn.metrics import accuracy_score\n",
    "from sklearn.naive_bayes import GaussianNB\n",
    "mnb = GaussianNB()\n"
   ]
  },
  {
   "cell_type": "code",
   "execution_count": 8,
   "id": "2a9b70d0",
   "metadata": {},
   "outputs": [],
   "source": [
    "def ingest_csv(fp='./wine.csv', verbose=True):\n",
    "    df= pd.read_csv(fp)\n",
    "    \n",
    "    if verbose:\n",
    "        print(df.shape)\n",
    "        print(df.head())\n",
    "        \n",
    "    return df"
   ]
  },
  {
   "cell_type": "code",
   "execution_count": 9,
   "id": "e6f796d3",
   "metadata": {},
   "outputs": [],
   "source": [
    "def split_class_and_data(df,class_column='class'):\n",
    "    \n",
    "    if class_column not in df:\n",
    "        raise ValueError('Column not in the df')\n",
    "        \n",
    "    y = df.pop(class_column).values\n",
    "    X = df.values\n",
    "    \n",
    "    return X,y"
   ]
  },
  {
   "cell_type": "code",
   "execution_count": 10,
   "id": "cbbb3add",
   "metadata": {},
   "outputs": [
    {
     "name": "stdout",
     "output_type": "stream",
     "text": [
      "(178, 14)\n",
      "   Alcohol  Malic_acid   Ash  Alcalinity_of_ash  Magnesium  Total_phenols  \\\n",
      "0    14.23        1.71  2.43               15.6        127           2.80   \n",
      "1    13.20        1.78  2.14               11.2        100           2.65   \n",
      "2    13.16        2.36  2.67               18.6        101           2.80   \n",
      "3    14.37        1.95  2.50               16.8        113           3.85   \n",
      "4    13.24        2.59  2.87               21.0        118           2.80   \n",
      "\n",
      "   Flavanoids  Nonflavanoid_phenols  Proanthocyanins  Color_intensity   Hue  \\\n",
      "0        3.06                  0.28             2.29             5.64  1.04   \n",
      "1        2.76                  0.26             1.28             4.38  1.05   \n",
      "2        3.24                  0.30             2.81             5.68  1.03   \n",
      "3        3.49                  0.24             2.18             7.80  0.86   \n",
      "4        2.69                  0.39             1.82             4.32  1.04   \n",
      "\n",
      "   OD280/OD315_of_diluted_wines  Proline  class  \n",
      "0                          3.92     1065  Type1  \n",
      "1                          3.40     1050  Type1  \n",
      "2                          3.17     1185  Type1  \n",
      "3                          3.45     1480  Type1  \n",
      "4                          2.93      735  Type1  \n"
     ]
    }
   ],
   "source": [
    "df=ingest_csv()"
   ]
  },
  {
   "cell_type": "code",
   "execution_count": 11,
   "id": "5b210861",
   "metadata": {},
   "outputs": [],
   "source": [
    "data, value=split_class_and_data(df=df,class_column='class')"
   ]
  },
  {
   "cell_type": "markdown",
   "id": "d23746de",
   "metadata": {},
   "source": [
    "### Note on Feature Selection\n",
    "\n",
    "1. Necessary to do feature selection on test set - If done on full set will influence features selected."
   ]
  },
  {
   "cell_type": "code",
   "execution_count": 22,
   "id": "842468a9",
   "metadata": {},
   "outputs": [],
   "source": [
    "def show_information_gain(X,y,df_columns=df.columns,random_state=2,test_size=0.5,no_of_features=3,verbose=True):\n",
    "\n",
    "    mi = dict()\n",
    "\n",
    "    X_train, X_test, y_train, y_test = train_test_split(X, y, random_state=random_state, test_size=test_size)\n",
    "    i_scores = mutual_info_classif(X_train, y_train)\n",
    "\n",
    "    for i,j in zip(df_columns,i_scores):\n",
    "        mi[i]=j\n",
    "\n",
    "    df = pd.DataFrame.from_dict(mi,orient='index',columns=['I-Gain'])\n",
    "    I_Gain_values=df.sort_values(by=['I-Gain'],ascending=False,inplace=True)\n",
    "    \n",
    "    print(\"\"\"\n",
    "The top Features are:\n",
    "{}\n",
    "    \n",
    "    \"\"\".format(df.head(no_of_features)))\n",
    "    \n",
    "    \n",
    "    \n",
    "    print(\"\"\"\n",
    "The bottom Features are:\n",
    "{}\n",
    "    \n",
    "    \"\"\".format(df.tail(no_of_features)))\n",
    "    \n",
    "    return I_Gain_values"
   ]
  },
  {
   "cell_type": "code",
   "execution_count": 23,
   "id": "86897076",
   "metadata": {},
   "outputs": [
    {
     "name": "stdout",
     "output_type": "stream",
     "text": [
      "\n",
      "The top Features are:\n",
      "                 I-Gain\n",
      "Flavanoids     0.771773\n",
      "Proline        0.574312\n",
      "Total_phenols  0.518603\n",
      "    \n",
      "    \n",
      "\n",
      "The bottom Features are:\n",
      "                        I-Gain\n",
      "Magnesium             0.163660\n",
      "Nonflavanoid_phenols  0.131041\n",
      "Ash                   0.063153\n",
      "    \n",
      "    \n"
     ]
    }
   ],
   "source": [
    "show_information_gain(X=data,y=value,df_columns=df.columns,random_state=2,test_size=0.5,no_of_features=3,verbose=True)"
   ]
  },
  {
   "cell_type": "code",
   "execution_count": null,
   "id": "54d4c00f",
   "metadata": {},
   "outputs": [],
   "source": []
  }
 ],
 "metadata": {
  "kernelspec": {
   "display_name": "Python 3",
   "language": "python",
   "name": "python3"
  },
  "language_info": {
   "codemirror_mode": {
    "name": "ipython",
    "version": 3
   },
   "file_extension": ".py",
   "mimetype": "text/x-python",
   "name": "python",
   "nbconvert_exporter": "python",
   "pygments_lexer": "ipython3",
   "version": "3.8.8"
  }
 },
 "nbformat": 4,
 "nbformat_minor": 5
}
